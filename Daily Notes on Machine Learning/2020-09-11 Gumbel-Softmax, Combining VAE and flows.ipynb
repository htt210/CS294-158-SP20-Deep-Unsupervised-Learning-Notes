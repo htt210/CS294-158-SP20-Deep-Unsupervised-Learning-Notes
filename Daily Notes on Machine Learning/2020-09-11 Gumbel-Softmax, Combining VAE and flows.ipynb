{
 "cells": [
  {
   "cell_type": "markdown",
   "metadata": {
    "collapsed": true,
    "pycharm": {
     "name": "#%% md\n"
    }
   },
   "source": [
    "# Gumbel Softmax\n",
    "\n",
    "Recall that we want to compute the gradient w.r.t. $\\phi$ of the\n",
    "following expectation\n",
    "\n",
    "$$\\mathbb{E}_{q_\\phi(x)} \\left[ f(x) \\right]$$\n",
    "\n",
    "If we draw samples from $q_\\phi(x)$ then the resulting expression\n",
    "does not depend on $\\phi$ so we cannot compute the gradient.\n",
    "We must express $x$ as the result of a deterministic function of\n",
    "a random variable $z$ drawn from a distribution $p_Z(z)$ that\n",
    "does not depend on $\\phi$\n",
    "\n",
    "$$x = g_\\phi(z), \\text{ where } z \\sim p_Z(z)$$\n",
    "\n",
    "The expectation becomes\n",
    "\n",
    "\\begin{eqnarray}\n",
    "\\mathbb{E}_{p_Z(z)} \\left[ f(g_\\phi(z)) \\right] \\approx\n",
    "\\frac{1}{K} \\sum_{i = 1}^K f(g_\\phi(z^{(i)}))\n",
    "\\end{eqnarray}\n",
    "\n",
    "That expression depends on $\\phi$ and we can compute the derivative\n",
    "w.r.t. $\\phi$.\n",
    "Reparameterization trick can be applied to some common continuous\n",
    "distributions such as Gaussian, Poisson, ..."
   ]
  },
  {
   "cell_type": "markdown",
   "source": [
    "What if $q_\\phi$ is a discrete distribution, e.g. categorical\n",
    "distribution? In this case $\\phi = (\\pi_1, ..., \\pi_n)^\\top$.\n",
    "Samples from $q_\\phi$ are one-hot vectors generated from this\n",
    "process\n",
    "\n",
    "$$x = \\text{onehot}\\left(\\underset{i}{\\max}\\{i | \\pi_1 + ... + \\pi_i < u\\}\\right)$$\n",
    "where $u \\sim \\mathcal{U}(0, 1)$.\n",
    "\n",
    "We can apply the Gumbel-Max trick to approximate the process of drawing samples\n",
    "from a categorical distribution\n",
    "$$x = \\text{onehot}\\left( \\underset{i}{\\text{argmax}}(G_i + \\log \\pi_i) \\right)$$\n",
    "\n",
    "where $G_i$ is a sample from the standard Gumbel distribution.\n",
    "\n",
    "- Question: why don't we train $\\phi$ directly, it is a continuous vector.\n",
    "- Answer: The input to the next step (e.g. the decoder) is a sample from\n",
    "$q_\\phi$, not the vector $\\phi$ it self.\n",
    "For example, we want to model human faces and $q_\\phi$ is the categorical\n",
    "distribution over skin colors. The input to the decoder are onehot vectors,\n",
    "not continuous vectors.\n",
    "$\\phi$ could be $(0.45, 0.2, 0.2, 0.15)$ but samples from $q_\\phi$ must be\n",
    "$(1, 0, 0, 0)$ 45% of the time, $(0, 1, 0, 0)$ 20% of the time, ...\n",
    "\n",
    "\n",
    "Gradient cannot pass through the discrete one-hot vector so we replace\n",
    "the discrete one-hot vector with a continuous approximation to let the\n",
    "gradient pass through. The continuous approximation is of the form\n",
    "\n",
    "$$y_i = \\frac{exp((\\log(\\pi_i) + G_i) / \\tau)}{\\sum_j exp(exp((\\log(\\pi_j) + G_j) / \\tau))}$$\n",
    "for $i = 1, ..., n$.\n"
   ],
   "metadata": {
    "collapsed": false
   }
  },
  {
   "cell_type": "markdown",
   "source": [],
   "metadata": {
    "collapsed": false
   }
  }
 ],
 "metadata": {
  "kernelspec": {
   "display_name": "Python 3",
   "language": "python",
   "name": "python3"
  },
  "language_info": {
   "codemirror_mode": {
    "name": "ipython",
    "version": 2
   },
   "file_extension": ".py",
   "mimetype": "text/x-python",
   "name": "python",
   "nbconvert_exporter": "python",
   "pygments_lexer": "ipython2",
   "version": "2.7.6"
  }
 },
 "nbformat": 4,
 "nbformat_minor": 0
}