{
 "cells": [
  {
   "cell_type": "markdown",
   "metadata": {
    "collapsed": true,
    "pycharm": {
     "name": "#%% md\n"
    }
   },
   "source": [
    "# Motivations\n",
    "\n",
    "We want to model a high dimensional distribution $p(x)$. We can use Auto Regressive Models\n",
    "like Pixel CNN, Pixel RNN. However, the sampling is slow because every dimension\n",
    "is dependent of all previous dimensions, e.g. every pixel is dependent of all\n",
    "previous pixels.\n",
    "\n",
    "We can make some independence assumptions to make the sampling process faster.\n",
    "The extreme case is that every dimension is independent of all other dimensions.\n",
    "We want something in between. We assume that the dimensions are independent\n",
    "given some hidden variable $z$:\n",
    "\n",
    "$$p(x) = p_Z(z)p(x | z)$$\n",
    "\n",
    "This type of models is called *Latent Variable Models*.\n",
    "\n",
    "$p_Z(z)$ is the prior distribution over $z$ which is usually chosen to be a\n",
    "distribution that is easy to sample from, e.g. uniform or Gaussian.\n",
    "More complex $p_Z(z)$ allows more precise modeling of $p(x)$, e.g. $p_Z(z)$ is\n",
    " the output of a normalizing flow.\n",
    "Prior learning is still an open research area."
   ]
  },
  {
   "cell_type": "markdown",
   "metadata": {},
   "source": [
    "# Problems\n",
    "\n",
    "## Sampling\n",
    "To sample from this model, we first draw $z$ from $p_Z(z)$ and then sample $x$ from $p(x | z)$.\n",
    "$p(x | z)$ is usually a neural network with parameter $\\theta$.\n",
    "\n",
    "\\begin{eqnarray}\n",
    "z \\sim p_Z(z) \\\\\n",
    "x \\sim p_\\theta (x | z)\n",
    "\\end{eqnarray}\n",
    "\n",
    "## Evaluating likelihood\n",
    "Given a datapoint $x_0$ and a model $p_\\theta (x)$, we can evaluate the likelihood of $x_0$.\n",
    "Some applications of this: to detect out of distribution (OOD) datapoints.\n",
    "\n",
    "\\begin{eqnarray}\n",
    "p_\\theta (x_0) = \\sum_{z \\sim p_Z} p_Z(z) p_\\theta(x|z)\n",
    "\\end{eqnarray}\n",
    "\n",
    "## Training\n",
    "LVMs are trained by maximum likelihood\n",
    "\n",
    "\\begin{eqnarray}\n",
    "\\underset{\\theta}{\\max} \\sum_i \\log p_\\theta(x^{(i)}) = \\sum_i \\log \\sum_z p_Z(z) p_\\theta(x^{(i)} | z)\n",
    "\\end{eqnarray}\n",
    "\n",
    "## Representation\n",
    "We want $z$ to capture properties of $x$. A good representation is useful in many other problems, e.g. RL,\n",
    "supervised learning, disentanglement, ...\n",
    "\n",
    "$$x \\rightarrow z$$"
   ]
  },
  {
   "cell_type": "markdown",
   "metadata": {
    "pycharm": {
     "name": "#%% md\n"
    }
   },
   "source": [
    "# Training LVMs\n",
    "Given a training dataset $\\mathcal{D} = \\{ x^{(i)} \\}_{i=1}^n$, we need to find parameter $\\theta$ s.t.\n",
    "the likelihood of the training data is maximized. The first step is to get an estimate of\n",
    "the likelihood. We consider the prior sampling method:\n",
    "## Prior sampling\n",
    "Let's consider an example where the data is in 2D and $z$ is 1D.\n",
    "The data consist of $10$ clusters as shown in the figure below."
   ]
  },
  {
   "cell_type": "code",
   "execution_count": 9,
   "metadata": {
    "pycharm": {
     "name": "#%%\n"
    }
   },
   "outputs": [
    {
     "data": {
      "text/plain": [
       "<matplotlib.collections.PathCollection at 0x7ff64b2ddc40>"
      ]
     },
     "execution_count": 9,
     "metadata": {},
     "output_type": "execute_result"
    },
    {
     "data": {
      "image/png": "[encoded data removed]",
      "text/plain": [
       "<Figure size 360x360 with 1 Axes>"
      ]
     },
     "metadata": {
      "needs_background": "light"
     },
     "output_type": "display_data"
    }
   ],
   "source": [
    "from matplotlib import pyplot as plt\n",
    "import numpy as np\n",
    "\n",
    "fig, ax = plt.subplots(1, 1, figsize=(5, 5))\n",
    "mu = np.random.random((10, 2)) * 20\n",
    "data = []\n",
    "for i in range(10):\n",
    "    data.append(mu[i] + np.random.random((10, 2)) * 2)\n",
    "data = np.concatenate(data, axis=0)\n",
    "ax.scatter(data[:, 0], data[:, 1])\n",
    "ax.scatter(data[0, 0], data[0, 1], c='r')\n",
    "\n",
    "ax.contourf()"
   ]
  },
  {
   "cell_type": "markdown",
   "metadata": {
    "pycharm": {
     "name": "#%% md\n"
    }
   },
   "source": [
    "We use the mixture of Gaussians model:\n",
    "\n",
    "\\begin{eqnarray}\n",
    "p_\\theta(x) = \\sum_{i = 1}^{10} p_Z(z) \\mathcal{N}(x | \\mu = f^{(i)}(z), \\Sigma = g^{(i)}(z))\n",
    "\\end{eqnarray}\n",
    "\n",
    "Assume that we have fitted the model to the data, i.e. each cluster is modeled by a\n",
    " Gaussian with mean $\\mu^{i}$ and covariance $\\Sigma^{(i)}$.\n",
    "\n",
    "Given the red datapoint $x^{(0)} \\sim \\mathcal{N}(\\mu^{(1)}, \\Sigma^{(1)})$, we want to estimate $p_\\theta(x^{(0)})$.\n",
    "If we sample $z$ uniformly, 9 out of 10 times,\n",
    "the selected a component which is not $\\mathcal{N}(\\mu^{(1)}, \\Sigma^{(1)})$ and it will assign very low\n",
    "probability to $x^{(0)}$. Because of that, in most cases (90%), the gradient signal is very small and unusable.\n",
    "The situation is worse in higher dimensional space. The probability that a randomly sampled $z$ end up producing\n",
    "the component near $x^{(0)}$ is practically $0$.\n",
    "\n",
    "We want to sample $z$ such that the probability of $x^{0}$ under the model is\n",
    "high.\n"
   ]
  },
  {
   "cell_type": "markdown",
   "metadata": {
    "pycharm": {
     "name": "#%% md\n"
    }
   },
   "source": [
    "## Importance sampling\n",
    "\n",
    "We want to compute $\\mathbb{E}_{p(x)} p(x) f(x)$. However, $p(x)$ is\n",
    "- Hard to sample from, and/or\n",
    "- Sample from $p(x)$ is not informative. For example, most of the density is\n",
    "concentrated at the region where $f(x) \\approx 0$. This is more visible for\n",
    "high dimensional distributions.\n",
    "\n",
    "We use a *proposal distribution* $q(x)$ that is\n",
    "- Easy to sample from, and\n",
    "- Samples from $q(x)$ is more informative, i.e. most of the density is\n",
    "concentrated at the region where $f(x)$ is large.\n",
    "\n",
    "\\begin{eqnarray}\n",
    "\\mathbb{E}_{p(x)} p(x) f(x) & = & \\sum_{x} p(x) f(x) \\\\\n",
    "& = & \\sum_{x} q(x) \\frac{p(x)}{q(x)} f(x) \\\\\n",
    "& = & \\mathbb{E}_{q(x)} \\frac{p(x)}{q(x)} f(x) \\\\\n",
    "& \\approx & \\frac{1}{K} \\sum_{i = 1}^K \\frac{p(x^{(i)})}{q(x^{(i)})} f(x^{(i)}), \\text{ where } x^{(i)} \\sim q(x)\n",
    "\\end{eqnarray}\n",
    "\n",
    "For LVM objective, $f(x) = \\log p_\\theta(x|z)$, and samples are taken from $p_Z(z)$.\n",
    "\n",
    "\\begin{eqnarray}\n",
    "\\sum_{i} \\log \\sum_z p_Z(z) p_\\theta (x^{{i}} | z) \\approx \\sum_i \\log \\frac{1}{K} \\sum_k^K \\frac{p_Z(z^{(i)}_k)}{q_Z(z^{(i)}_{k})} p(x^{(i)}|z^{(i)}_{k}),\n",
    "\\end{eqnarray}\n",
    "where $z^{(i)}_k \\sim q(z)$.\n",
    "\n",
    "Question: what is the good $q(z)$ given $x^{(i)}$?\n",
    "\n",
    "Answer: $q^{(i)}(z) = p_\\theta(z|x^{(i)})$. This is justified through the KL divergence\n",
    "formulation.\n",
    "\n",
    "\\begin{eqnarray}\n",
    "q^{(i)}(z) = p_\\theta (z | x^{(i)}) = \\frac{p_\\theta (x^{(i)}|z) p_Z(z)}{p_\\theta (x)}\n",
    "\\end{eqnarray}\n",
    "\n",
    "We can optimize $q^{(i)}(z)$ by minimizing the KL divergence between\n",
    "$q^{(i)}(z)$ and $p(z | x^{(i)})$.\n",
    "\n",
    "\\begin{eqnarray}\n",
    "& & \\underset{q(z)}{\\min} KL(q(z) || p_\\theta (z | x^{(i)}) \\\\\n",
    "& = & \\underset{q(z)}{\\min} \\mathbb{E}_{q(z)} \\left[ \\log \\frac{q(z)}{p_\\theta(z | x^{(i)})} \\right] \\\\\n",
    "& = & \\underset{q(z)}{\\min} \\mathbb{E}_{q(z)} \\left[ \\log \\frac{q(z) p_\\theta(x^{(i)})}{p_\\theta(x^{(i)} | z) p_Z(z)} \\right] \\\\\n",
    "& = & \\underset{q(z)}{\\min} \\mathbb{E}_{q(z)} \\left[ \\log q(z) - \\log p_\\theta(x^{(i)} | z) - \\log p_Z(z) \\right] + C\n",
    "\\end{eqnarray}\n",
    "\n",
    "We can optimize the parameter of $q(z)$ to find the optimal variational distribution.\n",
    "One method for doing this is called Stochastic Variational Inference.\n",
    "However, running SVI for each datapoint $x^{(i)}$ is expensive.\n",
    "\n",
    "Instead of solving $n$ optimization problems, we learn a model that solves\n",
    "the variational inference problem given the datapoint $x$, i.e. a function\n",
    "from $x$ to $z$. This is called Amortized Variational Inference. VAEs follow\n",
    "this approach. The function is implemented by a neural network."
   ]
  },
  {
   "cell_type": "markdown",
   "metadata": {
    "pycharm": {
     "name": "#%% md\n"
    }
   },
   "source": [
    "## Amortized Variational Inference\n",
    "We parametrize $q$ with $\\phi$, the problem becomes\n",
    "\n",
    "\\begin{eqnarray}\n",
    "&  & \\underset{\\phi}{\\min} \\sum_i KL(q_\\phi(z) || p_\\theta (z | x^{(i)}) \\\\\n",
    "& = & \\underset{\\phi}{\\min} \\sum_i \\mathbb{E} \\left[ \\log \\frac{q_\\phi(z)}{p_\\theta(z | x^{(i)}} \\right]\n",
    "\\end{eqnarray}\n",
    "\n",
    "The problem becomes finding $q_\\phi$ that minimizes an expectation. Approaches to\n",
    "this problem are:\n",
    "- Likelihood Ratio Gradient: tends to have high variance for high dimensional distributions (see examples)\n",
    "- Path Wise Derivative (Reparameterization Trick): is easily applicable to only a limited number of\n",
    "distributions, e.g. Gaussian, Poisson, ... Can be applied to more complicated\n",
    "distributions via the use of flow models."
   ]
  },
  {
   "cell_type": "markdown",
   "source": [
    "## Importance Weighted AutoEncoder (IWAE)\n",
    "\n",
    "The objectives for IWAE are\n",
    "\n",
    "- The maximum likelihood objective\n",
    "\n",
    "$$\\frac{1}{K} \\sum_i \\frac{p_Z(z^{(i)}_k)}{q_\\phi (z^{(i)}_k)} p_\\theta(x^{(i)} | z^{(i)}_k) \\text{ where } z^{(i)}_k \\sim q_\\phi(z; x^{(i)})$$\n",
    "\n",
    "- The KL divergence\n",
    "\n",
    "$$\\underset{\\phi}{\\min} \\sum_i KL\\left(q_\\phi\\left(z; x^{(i)}\\right) || p_\\theta\\left(z | x^{(i)}\\right)\\right)$$\n",
    "\n",
    "We can jointly optimize the 2 objectives by maximizing the difference between the\n",
    "likelihood and the KL."
   ],
   "metadata": {
    "collapsed": false
   }
  }
 ],
 "metadata": {
  "kernelspec": {
   "display_name": "Python 3",
   "language": "python",
   "name": "python3"
  },
  "language_info": {
   "codemirror_mode": {
    "name": "ipython",
    "version": 3
   },
   "file_extension": ".py",
   "mimetype": "text/x-python",
   "name": "python",
   "nbconvert_exporter": "python",
   "pygments_lexer": "ipython3",
   "version": "3.8.3"
  }
 },
 "nbformat": 4,
 "nbformat_minor": 1
}