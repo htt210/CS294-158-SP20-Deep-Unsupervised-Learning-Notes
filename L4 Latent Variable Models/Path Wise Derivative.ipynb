{
 "cells": [
  {
   "cell_type": "markdown",
   "metadata": {
    "collapsed": true,
    "pycharm": {
     "name": "#%% md\n"
    }
   },
   "source": [
    "Similar to LRG, we want to minimize the following expectation\n",
    "\n",
    "$$\\underset{\\phi}{\\min} \\mathbb{E}_{q_\\phi (x)}[f(x)]$$\n",
    "\n",
    "We need to compute the gradient of $\\mathbb{E}_{q_\\phi (x)}[f(x)]$ w.r.t\n",
    "$\\phi$. We cannot draw samples from $q_\\phi$ and take the empirical mean\n",
    "\n",
    "$$\\frac{1}{K} \\sum_{i=1}^K f(x^{(i)})$$\n",
    "\n",
    "because this expression does not contain/depend on $\\phi$. The gradient of\n",
    "this expression w.r.t $\\phi$ is 0."
   ]
  },
  {
   "cell_type": "markdown",
   "source": [
    "Let $p_Z(z)$ be a simple distribution, e.g. Gaussian. Suppose that there exist\n",
    " a deterministic function $g: \\mathcal{Z} \\rightarrow \\mathcal{X}$ with\n",
    " parameter $\\phi$, s.t.\n",
    "\n",
    "$$x = g_\\phi(z)$$\n",
    "\n",
    "Replace $x$ with $g(z)$\n",
    "\n",
    "\\begin{eqnarray}\n",
    "\\mathbb{E}_{x \\sim q_\\phi(x)} \\left[ f(x) \\right] & = & \\mathbb{E}_{z \\sim p_Z(z)} \\left[ f(g_\\phi(z)) \\right] \\\\\n",
    "& \\approx & \\frac{1}{K} \\sum_{i = 1}^K f(g_\\phi(z^{(i)}))\n",
    "\\end{eqnarray}\n",
    "\n",
    "We can differentiate the new approximation w.r.t $\\phi$ because it still\n",
    "appears in the approximation.\n",
    "\n",
    "Reparameterization trick usually has much lower variance than Likelihood Ratio Grad\n",
    "because:\n",
    "- Unlike LRG where the derivative is the derivative of $q_\\phi$ w.r.t $\\phi$,\n",
    "the derivative here is of $f(x)$ w.r.t $\\phi$. This makes the optimization\n",
    "much easier (see example below).\n",
    "- There is no $\\log q_\\phi(x)$ term. This term is very big for high\n",
    "dimensional distributions and contribute significantly to the variance of LRG."
   ],
   "metadata": {
    "collapsed": false
   }
  },
  {
   "cell_type": "code",
   "execution_count": 0,
   "outputs": [],
   "source": [],
   "metadata": {
    "collapsed": false,
    "pycharm": {
     "name": "#%%\n"
    }
   }
  },
  {
   "cell_type": "code",
   "execution_count": null,
   "outputs": [],
   "source": [],
   "metadata": {
    "collapsed": false,
    "pycharm": {
     "name": "#%%\n"
    }
   }
  }
 ],
 "metadata": {
  "kernelspec": {
   "display_name": "Python 3",
   "language": "python",
   "name": "python3"
  },
  "language_info": {
   "codemirror_mode": {
    "name": "ipython",
    "version": 2
   },
   "file_extension": ".py",
   "mimetype": "text/x-python",
   "name": "python",
   "nbconvert_exporter": "python",
   "pygments_lexer": "ipython2",
   "version": "2.7.6"
  }
 },
 "nbformat": 4,
 "nbformat_minor": 0
}